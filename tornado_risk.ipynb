{
 "cells": [
  {
   "cell_type": "markdown",
   "id": "35951c76",
   "metadata": {},
   "source": [
    "### Import libraries"
   ]
  },
  {
   "cell_type": "code",
   "execution_count": 78,
   "id": "ab269131",
   "metadata": {},
   "outputs": [],
   "source": [
    "import requests\n",
    "import pandas\n",
    "from matplotlib import pyplot"
   ]
  },
  {
   "cell_type": "code",
   "execution_count": 3,
   "id": "dca35776",
   "metadata": {},
   "outputs": [],
   "source": [
    "url = \"https://www.disastercenter.com/tornado/rank.htm\""
   ]
  },
  {
   "cell_type": "code",
   "execution_count": 4,
   "id": "4063f1e5",
   "metadata": {},
   "outputs": [],
   "source": [
    "def write_document_from_url(url, name_document):\n",
    "    response = requests.get(url)\n",
    "    document = response.text\n",
    "    with open(name_document, \"w+\") as file:\n",
    "        file.write(document)  "
   ]
  },
  {
   "cell_type": "code",
   "execution_count": 5,
   "id": "a37b429a",
   "metadata": {},
   "outputs": [],
   "source": [
    "#write_document_from_url(url, \"ranking_tornado_risk.html\")\n",
    "#write_document_from_url(\"https://www.disastercenter.com/indiana/tornado.html\", \n",
    "#\"indiana_stats.html\")\n",
    "#write_document_from_url(\"https://www.disastercenter.com/mass/tornado.html\", \n",
    " #                       \"massachusetts_stats.html\")"
   ]
  },
  {
   "cell_type": "code",
   "execution_count": 6,
   "id": "cf5be60b",
   "metadata": {},
   "outputs": [],
   "source": [
    "ranking_states = pandas.read_html(\"ranking_tornado_risk.html\", header=0)[0]\n",
    "indi_stats = pandas.read_html(\"indiana_stats.html\", header=0)[0]\n",
    "mass_stats = pandas.read_html(\"massachusetts_stats.html\", header=0)[0]"
   ]
  },
  {
   "cell_type": "markdown",
   "id": "810d9faf",
   "metadata": {},
   "source": [
    "### Cleaning"
   ]
  },
  {
   "cell_type": "code",
   "execution_count": 7,
   "id": "8fb26265",
   "metadata": {},
   "outputs": [],
   "source": [
    "#delete rows with total/avg\n",
    "indi_stats.drop([46, 47], axis=0, inplace=bool(1))\n",
    "mass_stats.drop([46, 47], axis=0, inplace=bool(1))"
   ]
  },
  {
   "cell_type": "code",
   "execution_count": 8,
   "id": "a5201d2b",
   "metadata": {},
   "outputs": [],
   "source": [
    "#replace values\n",
    "mass_stats[\"Cost Adjusted\"] = mass_stats[\"Cost Adjusted\"].apply(\n",
    "    lambda number:number.replace('$', ''))\n",
    "mass_stats[\"Cost Adjusted\"] = mass_stats[\"Cost Adjusted\"].apply(\n",
    "    lambda number:number.replace(',', ''))\n",
    "mass_stats[\"Cost Adjusted\"] = mass_stats[\"Cost Adjusted\"].apply(\n",
    "    lambda number:number.replace('-', '0'))\n",
    "indi_stats[\"Cost Adjusted\"] = indi_stats[\"Cost Adjusted\"].apply(\n",
    "    lambda number:number.replace('-', '0'))"
   ]
  },
  {
   "cell_type": "code",
   "execution_count": 9,
   "id": "90459f80",
   "metadata": {},
   "outputs": [],
   "source": [
    "#change column data type\n",
    "mass_stats[\"Cost Adjusted\"] = mass_stats[\"Cost Adjusted\"].astype(int)\n",
    "indi_stats[\"Cost Adjusted\"] = indi_stats[\"Cost Adjusted\"].astype(int)"
   ]
  },
  {
   "cell_type": "markdown",
   "id": "5f6db47e",
   "metadata": {},
   "source": [
    "### Ranking states"
   ]
  },
  {
   "cell_type": "code",
   "execution_count": 10,
   "id": "b3299c44",
   "metadata": {},
   "outputs": [],
   "source": [
    "states = ranking_states[\"State\"].head(15)\n",
    "factor = ranking_states[\"Factor\"].head(15)"
   ]
  },
  {
   "cell_type": "code",
   "execution_count": 30,
   "id": "96b4391a",
   "metadata": {},
   "outputs": [
    {
     "data": {
      "image/png": "[encoded data removed]",
      "text/plain": [
       "<Figure size 576x396 with 1 Axes>"
      ]
     },
     "metadata": {},
     "output_type": "display_data"
    }
   ],
   "source": [
    "pyplot.barh(states, factor)\n",
    "pyplot.xlabel(\"Factor\")\n",
    "pyplot.title(\"Ranking fifteen states by factor\")\n",
    "pyplot.style.use('seaborn')\n",
    "pyplot.tight_layout()\n",
    "pyplot.show()"
   ]
  },
  {
   "cell_type": "code",
   "execution_count": 86,
   "id": "b1cce594",
   "metadata": {},
   "outputs": [
    {
     "data": {
      "text/html": [
       "<div>\n",
       "<style scoped>\n",
       "    .dataframe tbody tr th:only-of-type {\n",
       "        vertical-align: middle;\n",
       "    }\n",
       "\n",
       "    .dataframe tbody tr th {\n",
       "        vertical-align: top;\n",
       "    }\n",
       "\n",
       "    .dataframe thead th {\n",
       "        text-align: right;\n",
       "    }\n",
       "</style>\n",
       "<table border=\"1\" class=\"dataframe\">\n",
       "  <thead>\n",
       "    <tr style=\"text-align: right;\">\n",
       "      <th></th>\n",
       "      <th>State</th>\n",
       "      <th>Factor</th>\n",
       "    </tr>\n",
       "  </thead>\n",
       "  <tbody>\n",
       "    <tr>\n",
       "      <th>13</th>\n",
       "      <td>Iowa</td>\n",
       "      <td>15.25</td>\n",
       "    </tr>\n",
       "    <tr>\n",
       "      <th>14</th>\n",
       "      <td>Missouri</td>\n",
       "      <td>15.25</td>\n",
       "    </tr>\n",
       "    <tr>\n",
       "      <th>15</th>\n",
       "      <td>Tennessee</td>\n",
       "      <td>16.00</td>\n",
       "    </tr>\n",
       "    <tr>\n",
       "      <th>16</th>\n",
       "      <td>Texas</td>\n",
       "      <td>17.00</td>\n",
       "    </tr>\n",
       "    <tr>\n",
       "      <th>17</th>\n",
       "      <td>Michigan</td>\n",
       "      <td>17.25</td>\n",
       "    </tr>\n",
       "    <tr>\n",
       "      <th>18</th>\n",
       "      <td>Delaware</td>\n",
       "      <td>18.50</td>\n",
       "    </tr>\n",
       "    <tr>\n",
       "      <th>19</th>\n",
       "      <td>South Carolina</td>\n",
       "      <td>18.75</td>\n",
       "    </tr>\n",
       "    <tr>\n",
       "      <th>20</th>\n",
       "      <td>Kentucky</td>\n",
       "      <td>19.25</td>\n",
       "    </tr>\n",
       "  </tbody>\n",
       "</table>\n",
       "</div>"
      ],
      "text/plain": [
       "             State  Factor\n",
       "13            Iowa   15.25\n",
       "14        Missouri   15.25\n",
       "15       Tennessee   16.00\n",
       "16           Texas   17.00\n",
       "17        Michigan   17.25\n",
       "18        Delaware   18.50\n",
       "19  South Carolina   18.75\n",
       "20        Kentucky   19.25"
      ]
     },
     "execution_count": 86,
     "metadata": {},
     "output_type": "execute_result"
    },
    {
     "data": {
      "image/png": "[encoded data removed]",
      "text/plain": [
       "<Figure size 576x396 with 1 Axes>"
      ]
     },
     "metadata": {},
     "output_type": "display_data"
    }
   ],
   "source": [
    "all_factor = ranking_states[\"Factor\"]\n",
    "bins_factor = [0,5,10,15,20,25,35,40,45,50]\n",
    "pyplot.hist(all_factor, bins=bins_factor, edgecolor=\"black\")\n",
    "pyplot.title(\"Grouping by factor\")\n",
    "pyplot.xlabel(\"Factor\")\n",
    "factor_between_15_n_20 = (ranking_states[\"Factor\"] > 15) & (ranking_states[\"Factor\"] < 20) \n",
    "ranking_states.loc[factor_between_15_n_20, [\"State\", \"Factor\"]]"
   ]
  },
  {
   "cell_type": "code",
   "execution_count": 82,
   "id": "45e7c639",
   "metadata": {},
   "outputs": [
    {
     "data": {
      "text/html": [
       "<div>\n",
       "<style scoped>\n",
       "    .dataframe tbody tr th:only-of-type {\n",
       "        vertical-align: middle;\n",
       "    }\n",
       "\n",
       "    .dataframe tbody tr th {\n",
       "        vertical-align: top;\n",
       "    }\n",
       "\n",
       "    .dataframe thead th {\n",
       "        text-align: right;\n",
       "    }\n",
       "</style>\n",
       "<table border=\"1\" class=\"dataframe\">\n",
       "  <thead>\n",
       "    <tr style=\"text-align: right;\">\n",
       "      <th></th>\n",
       "      <th>State</th>\n",
       "      <th>Factor</th>\n",
       "    </tr>\n",
       "  </thead>\n",
       "  <tbody>\n",
       "    <tr>\n",
       "      <th>27</th>\n",
       "      <td>South Dakota</td>\n",
       "      <td>29.75</td>\n",
       "    </tr>\n",
       "    <tr>\n",
       "      <th>28</th>\n",
       "      <td>Virginia</td>\n",
       "      <td>29.75</td>\n",
       "    </tr>\n",
       "    <tr>\n",
       "      <th>29</th>\n",
       "      <td>North Dakota</td>\n",
       "      <td>30.25</td>\n",
       "    </tr>\n",
       "    <tr>\n",
       "      <th>30</th>\n",
       "      <td>New Jersey</td>\n",
       "      <td>30.75</td>\n",
       "    </tr>\n",
       "    <tr>\n",
       "      <th>31</th>\n",
       "      <td>New York</td>\n",
       "      <td>31.25</td>\n",
       "    </tr>\n",
       "    <tr>\n",
       "      <th>32</th>\n",
       "      <td>Rhode Island</td>\n",
       "      <td>32.50</td>\n",
       "    </tr>\n",
       "    <tr>\n",
       "      <th>33</th>\n",
       "      <td>Colorado</td>\n",
       "      <td>35.00</td>\n",
       "    </tr>\n",
       "    <tr>\n",
       "      <th>34</th>\n",
       "      <td>West Virginia</td>\n",
       "      <td>35.00</td>\n",
       "    </tr>\n",
       "  </tbody>\n",
       "</table>\n",
       "</div>"
      ],
      "text/plain": [
       "            State  Factor\n",
       "27   South Dakota   29.75\n",
       "28       Virginia   29.75\n",
       "29   North Dakota   30.25\n",
       "30     New Jersey   30.75\n",
       "31       New York   31.25\n",
       "32   Rhode Island   32.50\n",
       "33       Colorado   35.00\n",
       "34  West Virginia   35.00"
      ]
     },
     "execution_count": 82,
     "metadata": {},
     "output_type": "execute_result"
    }
   ],
   "source": [
    "factor_between_25_n_35 = (ranking_states[\"Factor\"] > 25) & (ranking_states[\"Factor\"] <= 35) \n",
    "ranking_states.loc[factor_between_25_n_35, [\"State\", \"Factor\"]]"
   ]
  },
  {
   "cell_type": "markdown",
   "id": "5d40d422",
   "metadata": {},
   "source": [
    "### Massachusetts statistics"
   ]
  },
  {
   "cell_type": "code",
   "execution_count": 84,
   "id": "4b36ed73",
   "metadata": {},
   "outputs": [
    {
     "data": {
      "text/plain": [
       "8     12\n",
       "6     10\n",
       "22    10\n",
       "13     8\n",
       "20     8\n",
       "Name: Tornadoes, dtype: int64"
      ]
     },
     "execution_count": 84,
     "metadata": {},
     "output_type": "execute_result"
    }
   ],
   "source": [
    "#greater number of tornadoes\n",
    "mass_stats[\"Tornadoes\"].nlargest(5)"
   ]
  },
  {
   "cell_type": "code",
   "execution_count": 73,
   "id": "b7aeeb68",
   "metadata": {},
   "outputs": [
    {
     "data": {
      "image/png": "[encoded data removed]",
      "text/plain": [
       "<Figure size 576x396 with 1 Axes>"
      ]
     },
     "metadata": {},
     "output_type": "display_data"
    },
    {
     "data": {
      "text/html": [
       "<div>\n",
       "<style scoped>\n",
       "    .dataframe tbody tr th:only-of-type {\n",
       "        vertical-align: middle;\n",
       "    }\n",
       "\n",
       "    .dataframe tbody tr th {\n",
       "        vertical-align: top;\n",
       "    }\n",
       "\n",
       "    .dataframe thead th {\n",
       "        text-align: right;\n",
       "    }\n",
       "</style>\n",
       "<table border=\"1\" class=\"dataframe\">\n",
       "  <thead>\n",
       "    <tr style=\"text-align: right;\">\n",
       "      <th></th>\n",
       "      <th>Year</th>\n",
       "      <th>Tornadoes</th>\n",
       "    </tr>\n",
       "  </thead>\n",
       "  <tbody>\n",
       "    <tr>\n",
       "      <th>6</th>\n",
       "      <td>1956</td>\n",
       "      <td>10</td>\n",
       "    </tr>\n",
       "    <tr>\n",
       "      <th>8</th>\n",
       "      <td>1958</td>\n",
       "      <td>12</td>\n",
       "    </tr>\n",
       "    <tr>\n",
       "      <th>13</th>\n",
       "      <td>1963</td>\n",
       "      <td>8</td>\n",
       "    </tr>\n",
       "    <tr>\n",
       "      <th>20</th>\n",
       "      <td>1970</td>\n",
       "      <td>8</td>\n",
       "    </tr>\n",
       "    <tr>\n",
       "      <th>22</th>\n",
       "      <td>1972</td>\n",
       "      <td>10</td>\n",
       "    </tr>\n",
       "  </tbody>\n",
       "</table>\n",
       "</div>"
      ],
      "text/plain": [
       "    Year  Tornadoes\n",
       "6   1956         10\n",
       "8   1958         12\n",
       "13  1963          8\n",
       "20  1970          8\n",
       "22  1972         10"
      ]
     },
     "execution_count": 73,
     "metadata": {},
     "output_type": "execute_result"
    }
   ],
   "source": [
    "mass_tornadoes = mass_stats.iloc[[8,6,22,13,20]].sort_values(by=\"Year\")\n",
    "major_tornadoes = mass_tornadoes[\"Tornadoes\"]\n",
    "years2 = mass_tornadoes[\"Year\"] \n",
    "porcions = [0.0, 0.1, 0.0, 0.0, 0.0]\n",
    "color_picker = [\"#0088cc\", \"#db4dff\", \"#ccff66\", \"#00cc44\", \"#ff8c1a\"]\n",
    "pyplot.pie(major_tornadoes, labels=years2, wedgeprops={\"edgecolor\":\"black\"}, autopct=\"%.1f%%\", \n",
    "           shadow=1, explode=porcions, startangle=-5, colors=color_picker)\n",
    "pyplot.tight_layout()\n",
    "pyplot.title(\"Number of tornadoes\")\n",
    "pyplot.legend()\n",
    "pyplot.show()\n",
    "mass_tornadoes[[\"Year\", \"Tornadoes\"]]"
   ]
  },
  {
   "cell_type": "markdown",
   "id": "73e99132",
   "metadata": {},
   "source": [
    "### Indiana statistics"
   ]
  },
  {
   "cell_type": "code",
   "execution_count": 108,
   "id": "19bbf3dc",
   "metadata": {},
   "outputs": [
    {
     "data": {
      "image/png": "[encoded data removed]",
      "text/plain": [
       "<Figure size 576x396 with 1 Axes>"
      ]
     },
     "metadata": {},
     "output_type": "display_data"
    },
    {
     "data": {
      "text/html": [
       "<div>\n",
       "<style scoped>\n",
       "    .dataframe tbody tr th:only-of-type {\n",
       "        vertical-align: middle;\n",
       "    }\n",
       "\n",
       "    .dataframe tbody tr th {\n",
       "        vertical-align: top;\n",
       "    }\n",
       "\n",
       "    .dataframe thead th {\n",
       "        text-align: right;\n",
       "    }\n",
       "</style>\n",
       "<table border=\"1\" class=\"dataframe\">\n",
       "  <thead>\n",
       "    <tr style=\"text-align: right;\">\n",
       "      <th></th>\n",
       "      <th>Year</th>\n",
       "      <th>Tornadoes</th>\n",
       "      <th>Deathes</th>\n",
       "      <th>Injuries</th>\n",
       "      <th>Cost Adjusted</th>\n",
       "    </tr>\n",
       "  </thead>\n",
       "  <tbody>\n",
       "    <tr>\n",
       "      <th>36</th>\n",
       "      <td>1986</td>\n",
       "      <td>19</td>\n",
       "      <td>1</td>\n",
       "      <td>50</td>\n",
       "      <td>22262832</td>\n",
       "    </tr>\n",
       "    <tr>\n",
       "      <th>37</th>\n",
       "      <td>1987</td>\n",
       "      <td>16</td>\n",
       "      <td>0</td>\n",
       "      <td>3</td>\n",
       "      <td>1575720</td>\n",
       "    </tr>\n",
       "    <tr>\n",
       "      <th>38</th>\n",
       "      <td>1988</td>\n",
       "      <td>13</td>\n",
       "      <td>0</td>\n",
       "      <td>8</td>\n",
       "      <td>2061090</td>\n",
       "    </tr>\n",
       "    <tr>\n",
       "      <th>39</th>\n",
       "      <td>1989</td>\n",
       "      <td>26</td>\n",
       "      <td>0</td>\n",
       "      <td>19</td>\n",
       "      <td>14883316</td>\n",
       "    </tr>\n",
       "    <tr>\n",
       "      <th>40</th>\n",
       "      <td>1990</td>\n",
       "      <td>49</td>\n",
       "      <td>8</td>\n",
       "      <td>210</td>\n",
       "      <td>20811456</td>\n",
       "    </tr>\n",
       "    <tr>\n",
       "      <th>41</th>\n",
       "      <td>1991</td>\n",
       "      <td>14</td>\n",
       "      <td>1</td>\n",
       "      <td>6</td>\n",
       "      <td>11982725</td>\n",
       "    </tr>\n",
       "    <tr>\n",
       "      <th>42</th>\n",
       "      <td>1992</td>\n",
       "      <td>46</td>\n",
       "      <td>0</td>\n",
       "      <td>71</td>\n",
       "      <td>19905600</td>\n",
       "    </tr>\n",
       "    <tr>\n",
       "      <th>43</th>\n",
       "      <td>1993</td>\n",
       "      <td>10</td>\n",
       "      <td>0</td>\n",
       "      <td>8</td>\n",
       "      <td>1436699</td>\n",
       "    </tr>\n",
       "    <tr>\n",
       "      <th>44</th>\n",
       "      <td>1994</td>\n",
       "      <td>17</td>\n",
       "      <td>3</td>\n",
       "      <td>75</td>\n",
       "      <td>1538459</td>\n",
       "    </tr>\n",
       "    <tr>\n",
       "      <th>45</th>\n",
       "      <td>1995</td>\n",
       "      <td>11</td>\n",
       "      <td>3</td>\n",
       "      <td>24</td>\n",
       "      <td>1578126</td>\n",
       "    </tr>\n",
       "  </tbody>\n",
       "</table>\n",
       "</div>"
      ],
      "text/plain": [
       "    Year  Tornadoes  Deathes  Injuries  Cost Adjusted\n",
       "36  1986         19        1        50       22262832\n",
       "37  1987         16        0         3        1575720\n",
       "38  1988         13        0         8        2061090\n",
       "39  1989         26        0        19       14883316\n",
       "40  1990         49        8       210       20811456\n",
       "41  1991         14        1         6       11982725\n",
       "42  1992         46        0        71       19905600\n",
       "43  1993         10        0         8        1436699\n",
       "44  1994         17        3        75        1538459\n",
       "45  1995         11        3        24        1578126"
      ]
     },
     "execution_count": 108,
     "metadata": {},
     "output_type": "execute_result"
    }
   ],
   "source": [
    "deathes = indi_stats[\"Deathes\"].tail(10)\n",
    "injuries = indi_stats[\"Injuries\"].tail(10)\n",
    "year = indi_stats[\"Year\"].tail(10)\n",
    "tornadoes = indi_stats[\"Tornadoes\"].tail(10)\n",
    "pyplot.plot(year, deathes, label=\"Deathes\", linestyle='--', color=\"#006699\")\n",
    "pyplot.plot(year, injuries, label=\"Injuries\", linestyle='--', color=\"#ff3300\")\n",
    "pyplot.bar(year, tornadoes, color=\"#99ccff\")\n",
    "pyplot.xlabel(\"Year\")\n",
    "pyplot.ylabel(\"Tornadoes\")\n",
    "pyplot.title(\"Indiana tornadoes between 1986-1995\")\n",
    "pyplot.tight_layout()\n",
    "pyplot.legend()\n",
    "pyplot.show()\n",
    "indi_stats.tail(10)"
   ]
  }
 ],
 "metadata": {
  "kernelspec": {
   "display_name": "Python 3",
   "language": "python",
   "name": "python3"
  },
  "language_info": {
   "codemirror_mode": {
    "name": "ipython",
    "version": 3
   },
   "file_extension": ".py",
   "mimetype": "text/x-python",
   "name": "python",
   "nbconvert_exporter": "python",
   "pygments_lexer": "ipython3",
   "version": "3.8.5"
  }
 },
 "nbformat": 4,
 "nbformat_minor": 5
}
